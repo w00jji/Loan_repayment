{
 "cells": [
  {
   "cell_type": "code",
   "execution_count": 1,
   "id": "42868167",
   "metadata": {},
   "outputs": [],
   "source": [
    "import numpy as np\n",
    "import matplotlib.pyplot as plt\n",
    "import seaborn as sns\n",
    "import matplotlib\n",
    "matplotlib.rc('font', family = 'Malgun Gothic')\n",
    "matplotlib.rc('axes', unicode_minus = False)\n",
    "%matplotlib inline\n",
    "\n",
    "# ignore warnings\n",
    "import warnings\n",
    "warnings.filterwarnings('ignore')\n",
    "\n",
    "#sns.set(font='NanumBarunGothic', font_scale=2.5)\n",
    "sns.set(font='Malgun Gothic', font_scale=2.5)\n",
    "plt.rcParams['axes.unicode_minus'] = False"
   ]
  },
  {
   "cell_type": "code",
   "execution_count": 2,
   "id": "10a14b65",
   "metadata": {},
   "outputs": [
    {
     "data": {
      "text/plain": [
       "BAD        0\n",
       "LOAN       0\n",
       "MORTDUE    0\n",
       "VALUE      0\n",
       "REASON     0\n",
       "JOB        0\n",
       "YOJ        0\n",
       "DEROG      0\n",
       "DELINQ     0\n",
       "CLAGE      0\n",
       "NINQ       0\n",
       "CLNO       0\n",
       "DEBTINC    0\n",
       "dtype: int64"
      ]
     },
     "execution_count": 2,
     "metadata": {},
     "output_type": "execute_result"
    }
   ],
   "source": [
    "import pandas as pd\n",
    "df = pd.read_csv('bank2.csv')\n",
    "df.isnull().sum()"
   ]
  },
  {
   "cell_type": "code",
   "execution_count": 3,
   "id": "728092ca",
   "metadata": {},
   "outputs": [
    {
     "data": {
      "text/html": [
       "<div>\n",
       "<style scoped>\n",
       "    .dataframe tbody tr th:only-of-type {\n",
       "        vertical-align: middle;\n",
       "    }\n",
       "\n",
       "    .dataframe tbody tr th {\n",
       "        vertical-align: top;\n",
       "    }\n",
       "\n",
       "    .dataframe thead th {\n",
       "        text-align: right;\n",
       "    }\n",
       "</style>\n",
       "<table border=\"1\" class=\"dataframe\">\n",
       "  <thead>\n",
       "    <tr style=\"text-align: right;\">\n",
       "      <th></th>\n",
       "      <th>BAD</th>\n",
       "      <th>LOAN</th>\n",
       "      <th>MORTDUE</th>\n",
       "      <th>VALUE</th>\n",
       "      <th>REASON</th>\n",
       "      <th>JOB</th>\n",
       "      <th>YOJ</th>\n",
       "      <th>DEROG</th>\n",
       "      <th>DELINQ</th>\n",
       "      <th>CLAGE</th>\n",
       "      <th>NINQ</th>\n",
       "      <th>CLNO</th>\n",
       "      <th>DEBTINC</th>\n",
       "    </tr>\n",
       "  </thead>\n",
       "  <tbody>\n",
       "    <tr>\n",
       "      <th>0</th>\n",
       "      <td>1</td>\n",
       "      <td>1700</td>\n",
       "      <td>30548</td>\n",
       "      <td>40320.0</td>\n",
       "      <td>HomeImp</td>\n",
       "      <td>Other</td>\n",
       "      <td>9</td>\n",
       "      <td>0</td>\n",
       "      <td>0.0</td>\n",
       "      <td>101.466002</td>\n",
       "      <td>1.0</td>\n",
       "      <td>8</td>\n",
       "      <td>37.113614</td>\n",
       "    </tr>\n",
       "    <tr>\n",
       "      <th>1</th>\n",
       "      <td>1</td>\n",
       "      <td>1800</td>\n",
       "      <td>28502</td>\n",
       "      <td>43034.0</td>\n",
       "      <td>HomeImp</td>\n",
       "      <td>Other</td>\n",
       "      <td>11</td>\n",
       "      <td>0</td>\n",
       "      <td>0.0</td>\n",
       "      <td>88.766030</td>\n",
       "      <td>0.0</td>\n",
       "      <td>8</td>\n",
       "      <td>36.884894</td>\n",
       "    </tr>\n",
       "    <tr>\n",
       "      <th>2</th>\n",
       "      <td>0</td>\n",
       "      <td>2300</td>\n",
       "      <td>102370</td>\n",
       "      <td>120953.0</td>\n",
       "      <td>HomeImp</td>\n",
       "      <td>Office</td>\n",
       "      <td>2</td>\n",
       "      <td>0</td>\n",
       "      <td>0.0</td>\n",
       "      <td>90.992533</td>\n",
       "      <td>0.0</td>\n",
       "      <td>13</td>\n",
       "      <td>31.588503</td>\n",
       "    </tr>\n",
       "    <tr>\n",
       "      <th>3</th>\n",
       "      <td>1</td>\n",
       "      <td>2400</td>\n",
       "      <td>34863</td>\n",
       "      <td>47471.0</td>\n",
       "      <td>HomeImp</td>\n",
       "      <td>Mgr</td>\n",
       "      <td>12</td>\n",
       "      <td>0</td>\n",
       "      <td>0.0</td>\n",
       "      <td>70.491080</td>\n",
       "      <td>1.0</td>\n",
       "      <td>21</td>\n",
       "      <td>38.263601</td>\n",
       "    </tr>\n",
       "    <tr>\n",
       "      <th>4</th>\n",
       "      <td>0</td>\n",
       "      <td>2400</td>\n",
       "      <td>98449</td>\n",
       "      <td>117195.0</td>\n",
       "      <td>HomeImp</td>\n",
       "      <td>Office</td>\n",
       "      <td>4</td>\n",
       "      <td>0</td>\n",
       "      <td>0.0</td>\n",
       "      <td>93.811775</td>\n",
       "      <td>0.0</td>\n",
       "      <td>13</td>\n",
       "      <td>29.681827</td>\n",
       "    </tr>\n",
       "  </tbody>\n",
       "</table>\n",
       "</div>"
      ],
      "text/plain": [
       "   BAD  LOAN  MORTDUE     VALUE   REASON     JOB  YOJ  DEROG  DELINQ  \\\n",
       "0    1  1700    30548   40320.0  HomeImp   Other    9      0     0.0   \n",
       "1    1  1800    28502   43034.0  HomeImp   Other   11      0     0.0   \n",
       "2    0  2300   102370  120953.0  HomeImp  Office    2      0     0.0   \n",
       "3    1  2400    34863   47471.0  HomeImp     Mgr   12      0     0.0   \n",
       "4    0  2400    98449  117195.0  HomeImp  Office    4      0     0.0   \n",
       "\n",
       "        CLAGE  NINQ  CLNO    DEBTINC  \n",
       "0  101.466002   1.0     8  37.113614  \n",
       "1   88.766030   0.0     8  36.884894  \n",
       "2   90.992533   0.0    13  31.588503  \n",
       "3   70.491080   1.0    21  38.263601  \n",
       "4   93.811775   0.0    13  29.681827  "
      ]
     },
     "execution_count": 3,
     "metadata": {},
     "output_type": "execute_result"
    }
   ],
   "source": [
    "df.head()"
   ]
  },
  {
   "cell_type": "code",
   "execution_count": 4,
   "id": "be9c90f9",
   "metadata": {},
   "outputs": [],
   "source": [
    "df['BAD'] = df['BAD'].astype(str)\n",
    "df['DELINQ'] = df['DELINQ'].astype(int)\n",
    "df['DELINQ'] = df['DELINQ'].astype(str)"
   ]
  },
  {
   "cell_type": "code",
   "execution_count": 5,
   "id": "f1261e30",
   "metadata": {
    "scrolled": true
   },
   "outputs": [
    {
     "data": {
      "text/plain": [
       "BAD         object\n",
       "LOAN         int64\n",
       "MORTDUE      int64\n",
       "VALUE      float64\n",
       "REASON      object\n",
       "JOB         object\n",
       "YOJ          int64\n",
       "DEROG        int64\n",
       "DELINQ      object\n",
       "CLAGE      float64\n",
       "NINQ       float64\n",
       "CLNO         int64\n",
       "DEBTINC    float64\n",
       "dtype: object"
      ]
     },
     "execution_count": 5,
     "metadata": {},
     "output_type": "execute_result"
    }
   ],
   "source": [
    "df.dtypes"
   ]
  },
  {
   "cell_type": "code",
   "execution_count": 6,
   "id": "f9007580",
   "metadata": {},
   "outputs": [],
   "source": [
    "df['DELINQ'] = df['DELINQ'].astype(int)"
   ]
  },
  {
   "cell_type": "code",
   "execution_count": 7,
   "id": "b4a9b5dc",
   "metadata": {},
   "outputs": [
    {
     "name": "stdout",
     "output_type": "stream",
     "text": [
      "chi-square test\n",
      "chisq : 325.261\n",
      "p : 0.0000000\n",
      "degree of freedom : 9\n",
      "expected value : \n",
      "[[2.871849e+03 2.911510e+02]\n",
      " [3.232310e+02 3.276900e+01]\n",
      " [1.216650e+02 1.233500e+01]\n",
      " [4.539800e+01 4.602000e+00]\n",
      " [2.088300e+01 2.117000e+00]\n",
      " [6.356000e+00 6.440000e-01]\n",
      " [6.356000e+00 6.440000e-01]\n",
      " [5.448000e+00 5.520000e-01]\n",
      " [9.080000e-01 9.200000e-02]\n",
      " [9.080000e-01 9.200000e-02]]\n"
     ]
    }
   ],
   "source": [
    "from scipy import stats\n",
    "\n",
    "df1 =pd.crosstab(df['DELINQ'], df['BAD'])\n",
    "chi, pval, dof, expected = stats.chi2_contingency(df1)\n",
    "\n",
    "print('chi-square test')\n",
    "print('chisq : {0:0.3f}'.format(chi))\n",
    "print('p : {0:0.7f}'.format(pval))\n",
    "print('degree of freedom : {}'.format(dof))\n",
    "print('expected value : \\n{}'.format(expected.round(3)))"
   ]
  },
  {
   "cell_type": "code",
   "execution_count": 8,
   "id": "68d2c27a",
   "metadata": {},
   "outputs": [
    {
     "data": {
      "text/html": [
       "<div>\n",
       "<style scoped>\n",
       "    .dataframe tbody tr th:only-of-type {\n",
       "        vertical-align: middle;\n",
       "    }\n",
       "\n",
       "    .dataframe tbody tr th {\n",
       "        vertical-align: top;\n",
       "    }\n",
       "\n",
       "    .dataframe thead th {\n",
       "        text-align: right;\n",
       "    }\n",
       "</style>\n",
       "<table border=\"1\" class=\"dataframe\">\n",
       "  <thead>\n",
       "    <tr style=\"text-align: right;\">\n",
       "      <th>BAD</th>\n",
       "      <th>0</th>\n",
       "      <th>1</th>\n",
       "    </tr>\n",
       "    <tr>\n",
       "      <th>DELINQ</th>\n",
       "      <th></th>\n",
       "      <th></th>\n",
       "    </tr>\n",
       "  </thead>\n",
       "  <tbody>\n",
       "    <tr>\n",
       "      <th>0</th>\n",
       "      <td>2943</td>\n",
       "      <td>220</td>\n",
       "    </tr>\n",
       "    <tr>\n",
       "      <th>1</th>\n",
       "      <td>307</td>\n",
       "      <td>49</td>\n",
       "    </tr>\n",
       "    <tr>\n",
       "      <th>2</th>\n",
       "      <td>101</td>\n",
       "      <td>33</td>\n",
       "    </tr>\n",
       "    <tr>\n",
       "      <th>3</th>\n",
       "      <td>39</td>\n",
       "      <td>11</td>\n",
       "    </tr>\n",
       "    <tr>\n",
       "      <th>4</th>\n",
       "      <td>13</td>\n",
       "      <td>10</td>\n",
       "    </tr>\n",
       "    <tr>\n",
       "      <th>5</th>\n",
       "      <td>0</td>\n",
       "      <td>7</td>\n",
       "    </tr>\n",
       "    <tr>\n",
       "      <th>6</th>\n",
       "      <td>0</td>\n",
       "      <td>7</td>\n",
       "    </tr>\n",
       "    <tr>\n",
       "      <th>7</th>\n",
       "      <td>0</td>\n",
       "      <td>6</td>\n",
       "    </tr>\n",
       "    <tr>\n",
       "      <th>8</th>\n",
       "      <td>0</td>\n",
       "      <td>1</td>\n",
       "    </tr>\n",
       "    <tr>\n",
       "      <th>10</th>\n",
       "      <td>0</td>\n",
       "      <td>1</td>\n",
       "    </tr>\n",
       "  </tbody>\n",
       "</table>\n",
       "</div>"
      ],
      "text/plain": [
       "BAD        0    1\n",
       "DELINQ           \n",
       "0       2943  220\n",
       "1        307   49\n",
       "2        101   33\n",
       "3         39   11\n",
       "4         13   10\n",
       "5          0    7\n",
       "6          0    7\n",
       "7          0    6\n",
       "8          0    1\n",
       "10         0    1"
      ]
     },
     "execution_count": 8,
     "metadata": {},
     "output_type": "execute_result"
    }
   ],
   "source": [
    "df1"
   ]
  },
  {
   "cell_type": "code",
   "execution_count": 9,
   "id": "42904916",
   "metadata": {},
   "outputs": [
    {
     "data": {
      "text/plain": [
       "<Figure size 1440x2160 with 0 Axes>"
      ]
     },
     "metadata": {},
     "output_type": "display_data"
    },
    {
     "data": {
      "image/png": "[encoded data removed]",
      "text/plain": [
       "<Figure size 432x288 with 1 Axes>"
      ]
     },
     "metadata": {},
     "output_type": "display_data"
    }
   ],
   "source": [
    "df1['Total'] = df1.sum(axis=1)\n",
    "# Normalize each group to sum up to 100%\n",
    "for col in ['0', '1']:\n",
    "    df1[col] = df1[col] / df1['Total'] * 100\n",
    "\n",
    "df_group_100 = df1.drop('Total', axis=1)\n",
    "# 그래프 크기 설정\n",
    "plt.figure(figsize=(20, 30))\n",
    "\n",
    "# 100% 스택 바 차트 그리기\n",
    "df_group_100.plot(kind='bar', stacked=True)\n",
    "\n",
    "# 라벨 및 제목 추가\n",
    "plt.xlabel('Y')\n",
    "plt.ylabel('Percentage (%)')\n",
    "plt.title('100% Stacked Bar Chart')\n",
    "plt.legend()\n",
    "\n",
    "# 그래프 보여주기\n",
    "plt.show()"
   ]
  },
  {
   "cell_type": "code",
   "execution_count": 10,
   "id": "2720acb0",
   "metadata": {},
   "outputs": [],
   "source": [
    "df1 = df[df['DELINQ'] <= 4]"
   ]
  },
  {
   "cell_type": "code",
   "execution_count": 11,
   "id": "8281cbb5",
   "metadata": {
    "scrolled": true
   },
   "outputs": [
    {
     "name": "stdout",
     "output_type": "stream",
     "text": [
      "chi-square test\n",
      "chisq : 112.926\n",
      "p : 0.0000000\n",
      "degree of freedom : 4\n",
      "expected value : \n",
      "[[2.888805e+03 2.741950e+02]\n",
      " [3.251390e+02 3.086100e+01]\n",
      " [1.223840e+02 1.161600e+01]\n",
      " [4.566600e+01 4.334000e+00]\n",
      " [2.100600e+01 1.994000e+00]]\n"
     ]
    }
   ],
   "source": [
    "df2 =pd.crosstab(df1['DELINQ'], df1['BAD'])\n",
    "from scipy import stats\n",
    "\n",
    "chi, pval, dof, expected = stats.chi2_contingency(df2)\n",
    "print('chi-square test')\n",
    "print('chisq : {0:0.3f}'.format(chi))\n",
    "print('p : {0:0.7f}'.format(pval))\n",
    "print('degree of freedom : {}'.format(dof))\n",
    "print('expected value : \\n{}'.format(expected.round(3)))"
   ]
  },
  {
   "cell_type": "code",
   "execution_count": 12,
   "id": "0eea504f",
   "metadata": {},
   "outputs": [
    {
     "data": {
      "text/html": [
       "<div>\n",
       "<style scoped>\n",
       "    .dataframe tbody tr th:only-of-type {\n",
       "        vertical-align: middle;\n",
       "    }\n",
       "\n",
       "    .dataframe tbody tr th {\n",
       "        vertical-align: top;\n",
       "    }\n",
       "\n",
       "    .dataframe thead th {\n",
       "        text-align: right;\n",
       "    }\n",
       "</style>\n",
       "<table border=\"1\" class=\"dataframe\">\n",
       "  <thead>\n",
       "    <tr style=\"text-align: right;\">\n",
       "      <th>DELINQ</th>\n",
       "      <th>0</th>\n",
       "      <th>1</th>\n",
       "      <th>2</th>\n",
       "      <th>3</th>\n",
       "      <th>4</th>\n",
       "    </tr>\n",
       "    <tr>\n",
       "      <th>BAD</th>\n",
       "      <th></th>\n",
       "      <th></th>\n",
       "      <th></th>\n",
       "      <th></th>\n",
       "      <th></th>\n",
       "    </tr>\n",
       "  </thead>\n",
       "  <tbody>\n",
       "    <tr>\n",
       "      <th>0</th>\n",
       "      <td>2943</td>\n",
       "      <td>307</td>\n",
       "      <td>101</td>\n",
       "      <td>39</td>\n",
       "      <td>13</td>\n",
       "    </tr>\n",
       "    <tr>\n",
       "      <th>1</th>\n",
       "      <td>220</td>\n",
       "      <td>49</td>\n",
       "      <td>33</td>\n",
       "      <td>11</td>\n",
       "      <td>10</td>\n",
       "    </tr>\n",
       "  </tbody>\n",
       "</table>\n",
       "</div>"
      ],
      "text/plain": [
       "DELINQ     0    1    2   3   4\n",
       "BAD                           \n",
       "0       2943  307  101  39  13\n",
       "1        220   49   33  11  10"
      ]
     },
     "execution_count": 12,
     "metadata": {},
     "output_type": "execute_result"
    }
   ],
   "source": [
    "df2.T"
   ]
  },
  {
   "cell_type": "code",
   "execution_count": 13,
   "id": "17e1b424",
   "metadata": {},
   "outputs": [
    {
     "data": {
      "text/html": [
       "<div>\n",
       "<style scoped>\n",
       "    .dataframe tbody tr th:only-of-type {\n",
       "        vertical-align: middle;\n",
       "    }\n",
       "\n",
       "    .dataframe tbody tr th {\n",
       "        vertical-align: top;\n",
       "    }\n",
       "\n",
       "    .dataframe thead th {\n",
       "        text-align: right;\n",
       "    }\n",
       "</style>\n",
       "<table border=\"1\" class=\"dataframe\">\n",
       "  <thead>\n",
       "    <tr style=\"text-align: right;\">\n",
       "      <th>BAD</th>\n",
       "      <th>0</th>\n",
       "      <th>1</th>\n",
       "    </tr>\n",
       "    <tr>\n",
       "      <th>DELINQ</th>\n",
       "      <th></th>\n",
       "      <th></th>\n",
       "    </tr>\n",
       "  </thead>\n",
       "  <tbody>\n",
       "    <tr>\n",
       "      <th>0</th>\n",
       "      <td>2943</td>\n",
       "      <td>220</td>\n",
       "    </tr>\n",
       "    <tr>\n",
       "      <th>1</th>\n",
       "      <td>307</td>\n",
       "      <td>49</td>\n",
       "    </tr>\n",
       "    <tr>\n",
       "      <th>2</th>\n",
       "      <td>101</td>\n",
       "      <td>33</td>\n",
       "    </tr>\n",
       "    <tr>\n",
       "      <th>3</th>\n",
       "      <td>39</td>\n",
       "      <td>11</td>\n",
       "    </tr>\n",
       "    <tr>\n",
       "      <th>4</th>\n",
       "      <td>13</td>\n",
       "      <td>10</td>\n",
       "    </tr>\n",
       "  </tbody>\n",
       "</table>\n",
       "</div>"
      ],
      "text/plain": [
       "BAD        0    1\n",
       "DELINQ           \n",
       "0       2943  220\n",
       "1        307   49\n",
       "2        101   33\n",
       "3         39   11\n",
       "4         13   10"
      ]
     },
     "execution_count": 13,
     "metadata": {},
     "output_type": "execute_result"
    }
   ],
   "source": [
    "df2"
   ]
  },
  {
   "cell_type": "code",
   "execution_count": 14,
   "id": "3545a18d",
   "metadata": {},
   "outputs": [
    {
     "name": "stdout",
     "output_type": "stream",
     "text": [
      "chi-square test\n",
      "chisq : 20.058\n",
      "p : 0.0000075\n",
      "degree of freedom : 1\n",
      "expected value : \n",
      "[[2921.213  241.787]\n",
      " [ 328.787   27.213]]\n"
     ]
    }
   ],
   "source": [
    "df3 = df[(df['DELINQ'] == 0) |(df['DELINQ'] == 1) ]\n",
    "df4 =pd.crosstab(df3['DELINQ'], df3['BAD'])\n",
    "chi, pval, dof, expected = stats.chi2_contingency(df4)\n",
    "print('chi-square test')\n",
    "print('chisq : {0:0.3f}'.format(chi))\n",
    "print('p : {0:0.7f}'.format(pval))\n",
    "print('degree of freedom : {}'.format(dof))\n",
    "print('expected value : \\n{}'.format(expected.round(3)))"
   ]
  },
  {
   "cell_type": "code",
   "execution_count": 15,
   "id": "a137e24f",
   "metadata": {},
   "outputs": [
    {
     "name": "stdout",
     "output_type": "stream",
     "text": [
      "chi-square test\n",
      "chisq : 7.483\n",
      "p : 0.0062274\n",
      "degree of freedom : 1\n",
      "expected value : \n",
      "[[296.424  59.576]\n",
      " [111.576  22.424]]\n"
     ]
    }
   ],
   "source": [
    "df3 = df[(df['DELINQ'] == 1) |(df['DELINQ'] == 2) ]\n",
    "df4 =pd.crosstab(df3['DELINQ'], df3['BAD'])\n",
    "chi, pval, dof, expected = stats.chi2_contingency(df4)\n",
    "print('chi-square test')\n",
    "print('chisq : {0:0.3f}'.format(chi))\n",
    "print('p : {0:0.7f}'.format(pval))\n",
    "print('degree of freedom : {}'.format(dof))\n",
    "print('expected value : \\n{}'.format(expected.round(3)))"
   ]
  },
  {
   "cell_type": "code",
   "execution_count": 16,
   "id": "64eb5d30",
   "metadata": {
    "scrolled": true
   },
   "outputs": [
    {
     "name": "stdout",
     "output_type": "stream",
     "text": [
      "chi-square test\n",
      "chisq : 2.576\n",
      "p : 0.1085115\n",
      "degree of freedom : 1\n",
      "expected value : \n",
      "[[35.616 14.384]\n",
      " [16.384  6.616]]\n"
     ]
    }
   ],
   "source": [
    "df3 = df[(df['DELINQ'] == 3) |(df['DELINQ'] == 4) ]\n",
    "df4 =pd.crosstab(df3['DELINQ'], df3['BAD'])\n",
    "chi, pval, dof, expected = stats.chi2_contingency(df4)\n",
    "print('chi-square test')\n",
    "print('chisq : {0:0.3f}'.format(chi))\n",
    "print('p : {0:0.7f}'.format(pval))\n",
    "print('degree of freedom : {}'.format(dof))\n",
    "print('expected value : \\n{}'.format(expected.round(3)))"
   ]
  },
  {
   "cell_type": "code",
   "execution_count": 17,
   "id": "9b8f4c79",
   "metadata": {},
   "outputs": [
    {
     "data": {
      "text/html": [
       "<div>\n",
       "<style scoped>\n",
       "    .dataframe tbody tr th:only-of-type {\n",
       "        vertical-align: middle;\n",
       "    }\n",
       "\n",
       "    .dataframe tbody tr th {\n",
       "        vertical-align: top;\n",
       "    }\n",
       "\n",
       "    .dataframe thead th {\n",
       "        text-align: right;\n",
       "    }\n",
       "</style>\n",
       "<table border=\"1\" class=\"dataframe\">\n",
       "  <thead>\n",
       "    <tr style=\"text-align: right;\">\n",
       "      <th>BAD</th>\n",
       "      <th>0</th>\n",
       "      <th>1</th>\n",
       "    </tr>\n",
       "    <tr>\n",
       "      <th>DELINQ</th>\n",
       "      <th></th>\n",
       "      <th></th>\n",
       "    </tr>\n",
       "  </thead>\n",
       "  <tbody>\n",
       "    <tr>\n",
       "      <th>3</th>\n",
       "      <td>39</td>\n",
       "      <td>11</td>\n",
       "    </tr>\n",
       "    <tr>\n",
       "      <th>4</th>\n",
       "      <td>13</td>\n",
       "      <td>10</td>\n",
       "    </tr>\n",
       "  </tbody>\n",
       "</table>\n",
       "</div>"
      ],
      "text/plain": [
       "BAD      0   1\n",
       "DELINQ        \n",
       "3       39  11\n",
       "4       13  10"
      ]
     },
     "execution_count": 17,
     "metadata": {},
     "output_type": "execute_result"
    }
   ],
   "source": [
    "df4"
   ]
  },
  {
   "cell_type": "code",
   "execution_count": 18,
   "id": "8fcde4e1",
   "metadata": {
    "scrolled": true
   },
   "outputs": [
    {
     "name": "stdout",
     "output_type": "stream",
     "text": [
      "chi-square test\n",
      "chisq : 4.189\n",
      "p : 0.1231234\n",
      "degree of freedom : 2\n",
      "expected value : \n",
      "[[99.043 34.957]\n",
      " [36.957 13.043]\n",
      " [17.     6.   ]]\n"
     ]
    }
   ],
   "source": [
    "df3 = df[(df['DELINQ'] == 2) | (df['DELINQ'] == 3) |(df['DELINQ'] == 4) ]\n",
    "df4 =pd.crosstab(df3['DELINQ'], df3['BAD'])\n",
    "chi, pval, dof, expected = stats.chi2_contingency(df4)\n",
    "print('chi-square test')\n",
    "print('chisq : {0:0.3f}'.format(chi))\n",
    "print('p : {0:0.7f}'.format(pval))\n",
    "print('degree of freedom : {}'.format(dof))\n",
    "print('expected value : \\n{}'.format(expected.round(3)))"
   ]
  },
  {
   "cell_type": "code",
   "execution_count": 19,
   "id": "98a2a079",
   "metadata": {},
   "outputs": [
    {
     "data": {
      "text/html": [
       "<div>\n",
       "<style scoped>\n",
       "    .dataframe tbody tr th:only-of-type {\n",
       "        vertical-align: middle;\n",
       "    }\n",
       "\n",
       "    .dataframe tbody tr th {\n",
       "        vertical-align: top;\n",
       "    }\n",
       "\n",
       "    .dataframe thead th {\n",
       "        text-align: right;\n",
       "    }\n",
       "</style>\n",
       "<table border=\"1\" class=\"dataframe\">\n",
       "  <thead>\n",
       "    <tr style=\"text-align: right;\">\n",
       "      <th>BAD</th>\n",
       "      <th>0</th>\n",
       "      <th>1</th>\n",
       "    </tr>\n",
       "    <tr>\n",
       "      <th>DELINQ</th>\n",
       "      <th></th>\n",
       "      <th></th>\n",
       "    </tr>\n",
       "  </thead>\n",
       "  <tbody>\n",
       "    <tr>\n",
       "      <th>2</th>\n",
       "      <td>101</td>\n",
       "      <td>33</td>\n",
       "    </tr>\n",
       "    <tr>\n",
       "      <th>3</th>\n",
       "      <td>39</td>\n",
       "      <td>11</td>\n",
       "    </tr>\n",
       "    <tr>\n",
       "      <th>4</th>\n",
       "      <td>13</td>\n",
       "      <td>10</td>\n",
       "    </tr>\n",
       "  </tbody>\n",
       "</table>\n",
       "</div>"
      ],
      "text/plain": [
       "BAD       0   1\n",
       "DELINQ         \n",
       "2       101  33\n",
       "3        39  11\n",
       "4        13  10"
      ]
     },
     "execution_count": 19,
     "metadata": {},
     "output_type": "execute_result"
    }
   ],
   "source": [
    "df4"
   ]
  },
  {
   "cell_type": "code",
   "execution_count": 20,
   "id": "6eb85624",
   "metadata": {},
   "outputs": [
    {
     "data": {
      "text/plain": [
       "<Figure size 1440x2160 with 0 Axes>"
      ]
     },
     "metadata": {},
     "output_type": "display_data"
    },
    {
     "data": {
      "image/png": "[encoded data removed]",
      "text/plain": [
       "<Figure size 432x288 with 1 Axes>"
      ]
     },
     "metadata": {},
     "output_type": "display_data"
    }
   ],
   "source": [
    "df2['Total'] = df2.sum(axis=1)\n",
    "# Normalize each group to sum up to 100%\n",
    "for col in ['0', '1']:\n",
    "    df2[col] = df2[col] / df2['Total'] * 100\n",
    "\n",
    "df_group_100 = df2.drop('Total', axis=1)\n",
    "# 그래프 크기 설정\n",
    "plt.figure(figsize=(20, 30))\n",
    "\n",
    "# 100% 스택 바 차트 그리기\n",
    "df_group_100.plot(kind='bar', stacked=True)\n",
    "\n",
    "# 라벨 및 제목 추가\n",
    "plt.xlabel('Y')\n",
    "plt.ylabel('Percentage (%)')\n",
    "plt.title('100% Stacked Bar Chart')\n",
    "plt.legend()\n",
    "\n",
    "# 그래프 보여주기\n",
    "plt.show()"
   ]
  },
  {
   "cell_type": "code",
   "execution_count": 21,
   "id": "99631ff6",
   "metadata": {},
   "outputs": [],
   "source": [
    "# 0구간, 1구간, 2-3구간, 4구간, 5이하구간에 맞춰서 위험도를 구분하는 것이 중요하다"
   ]
  },
  {
   "cell_type": "code",
   "execution_count": null,
   "id": "1c28f981",
   "metadata": {},
   "outputs": [],
   "source": []
  }
 ],
 "metadata": {
  "kernelspec": {
   "display_name": "Python 3 (ipykernel)",
   "language": "python",
   "name": "python3"
  },
  "language_info": {
   "codemirror_mode": {
    "name": "ipython",
    "version": 3
   },
   "file_extension": ".py",
   "mimetype": "text/x-python",
   "name": "python",
   "nbconvert_exporter": "python",
   "pygments_lexer": "ipython3",
   "version": "3.11.7"
  }
 },
 "nbformat": 4,
 "nbformat_minor": 5
}
